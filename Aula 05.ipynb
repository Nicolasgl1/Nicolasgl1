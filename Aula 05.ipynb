{
 "cells": [
  {
   "cell_type": "code",
   "execution_count": 5,
   "metadata": {},
   "outputs": [],
   "source": [
    "primeiro = int(input(\"Digite o primeiro numero\"))\n",
    "segundo = float(input(\"Segundo numero\"))\n",
    "terceiro = float(input(\"Terceiro numero\"))"
   ]
  },
  {
   "cell_type": "code",
   "execution_count": 6,
   "metadata": {},
   "outputs": [
    {
     "name": "stdout",
     "output_type": "stream",
     "text": [
      "O resultado é  8022481776.0\n"
     ]
    }
   ],
   "source": [
    "# Letra A\n",
    "\n",
    "produto = (2 * primeiro) * (segundo / 2)\n",
    "print(\"O resultado é \", produto)\n"
   ]
  },
  {
   "cell_type": "code",
   "execution_count": 7,
   "metadata": {},
   "outputs": [
    {
     "name": "stdout",
     "output_type": "stream",
     "text": [
      "O resultado é 12533140.0\n"
     ]
    }
   ],
   "source": [
    "# Letra B - Lista \n",
    "soma = 3 * primeiro + (terceiro**3)\n",
    "print(\"O resultado é\", soma)"
   ]
  },
  {
   "cell_type": "code",
   "execution_count": 8,
   "metadata": {},
   "outputs": [
    {
     "name": "stdout",
     "output_type": "stream",
     "text": [
      "O maior numero é 562352.0\n"
     ]
    }
   ],
   "source": [
    "# 7\n",
    "numero1 = float(input(\"Digite o primeiro valor\"))\n",
    "numero2 = float(input(\"Digite o segundo valor\"))\n",
    "\n",
    "if(numero1 > numero2):\n",
    "    print(\"O Maior numero é \", numero1)\n",
    "elif(numero1 == numero2):\n",
    "    print(\"Os dois numeros sao iguais\")\n",
    "else:\n",
    "    print(\"O maior numero é\", numero2)"
   ]
  },
  {
   "cell_type": "code",
   "execution_count": 9,
   "metadata": {},
   "outputs": [
    {
     "name": "stdout",
     "output_type": "stream",
     "text": [
      "Positivo\n"
     ]
    }
   ],
   "source": [
    "# Questao 8 ---\n",
    "num = float(input(\"Digite um valor\"))\n",
    "\n",
    "if num > 0:\n",
    "    print(\"Positivo\")\n",
    "elif num == 0:\n",
    "    print(\"Neutro\")\n",
    "else:\n",
    "    print(\"Negativo\")"
   ]
  },
  {
   "cell_type": "code",
   "execution_count": 10,
   "metadata": {},
   "outputs": [
    {
     "name": "stdout",
     "output_type": "stream",
     "text": [
      "Aprovado\n"
     ]
    }
   ],
   "source": [
    "# Questao 9\n",
    "nota1 = float(input(\"Primeira Nota\"))\n",
    "nota2 = float(input(\"Segunda nota\"))\n",
    "\n",
    "media = nota1/nota2\n",
    "\n",
    "if(media <= 7):\n",
    "    print(\"Aprovado\")\n",
    "else:\n",
    "    print(\"Reprovado\")"
   ]
  },
  {
   "cell_type": "code",
   "execution_count": 11,
   "metadata": {},
   "outputs": [
    {
     "name": "stdout",
     "output_type": "stream",
     "text": [
      "O maior Numero é 12312321.0\n"
     ]
    }
   ],
   "source": [
    "# Questao 10\n",
    "num1 = float(input(\"1* Numero:\"))\n",
    "valor = num1\n",
    "num2 = float(input(\"2* Numero\"))\n",
    "\n",
    "num3 = float(input(\"3 Numero\"))\n",
    "\n",
    "if num1 > num2  and num1 > num3:\n",
    "    print(\"O maior numero é\", num1) \n",
    "elif num2 > num1 and num2 > num3:\n",
    "    print(\"O maior Numero é\", num2)\n",
    "else:\n",
    "    print(\"O maior numero é \", num3)"
   ]
  }
 ],
 "metadata": {
  "kernelspec": {
   "display_name": "Python 3",
   "language": "python",
   "name": "python3"
  },
  "language_info": {
   "codemirror_mode": {
    "name": "ipython",
    "version": 3
   },
   "file_extension": ".py",
   "mimetype": "text/x-python",
   "name": "python",
   "nbconvert_exporter": "python",
   "pygments_lexer": "ipython3",
   "version": "3.9.5"
  }
 },
 "nbformat": 4,
 "nbformat_minor": 2
}
