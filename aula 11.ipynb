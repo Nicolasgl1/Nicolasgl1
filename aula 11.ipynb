{
 "cells": [
  {
   "cell_type": "code",
   "execution_count": 26,
   "metadata": {},
   "outputs": [
    {
     "name": "stdout",
     "output_type": "stream",
     "text": [
      "5 patinhos foram passear, além das montanhas para brincar. A mamãe gritou quá quá quá quá, mas só 4 voltaram de lá\n",
      "4 patinhos foram passear, além das montanhas para brincar. A mamãe gritou quá quá quá quá, mas só 3 voltaram de lá\n",
      "3 patinhos foram passear, além das montanhas para brincar. A mamãe gritou quá quá quá quá, mas só 2 voltaram de lá\n",
      "2 patinhos foram passear, além das montanhas para brincar. A mamãe gritou quá quá quá quá, mas só 1 voltaram de lá\n",
      "1 patinhos foram passear, além das montanhas para brincar. A mamãe gritou quá quá quá quá, mas só 0 voltaram de lá\n"
     ]
    }
   ],
   "source": [
    "#Numero de patinhos\n",
    "n = 5\n",
    "for n in[5,4,3,2,1]:\n",
    "    print (n, \"patinhos foram passear, além das montanhas para brincar. A mamãe gritou quá quá quá quá, mas só\", n-1, \"voltaram de lá\")"
   ]
  },
  {
   "cell_type": "code",
   "execution_count": 27,
   "metadata": {},
   "outputs": [
    {
     "name": "stdout",
     "output_type": "stream",
     "text": [
      "Tabuada de 11:\n",
      "11 x 1 = 11\n",
      "11 x 2 = 22\n",
      "11 x 3 = 33\n",
      "11 x 4 = 44\n",
      "11 x 5 = 55\n",
      "11 x 6 = 66\n",
      "11 x 7 = 77\n",
      "11 x 8 = 88\n",
      "11 x 9 = 99\n",
      "11 x 10 = 110\n"
     ]
    }
   ],
   "source": [
    "numero = int(input(\"Digite um número para ver a tabuada: \"))\n",
    "print(f\"Tabuada de {numero}:\")\n",
    "for i in range(1, 11):\n",
    "    resultado = numero * i\n",
    "    print(f\"{numero} x {i} = {resultado}\")"
   ]
  }
 ],
 "metadata": {
  "kernelspec": {
   "display_name": "Python 3",
   "language": "python",
   "name": "python3"
  },
  "language_info": {
   "codemirror_mode": {
    "name": "ipython",
    "version": 3
   },
   "file_extension": ".py",
   "mimetype": "text/x-python",
   "name": "python",
   "nbconvert_exporter": "python",
   "pygments_lexer": "ipython3",
   "version": "3.10.8"
  }
 },
 "nbformat": 4,
 "nbformat_minor": 2
}
