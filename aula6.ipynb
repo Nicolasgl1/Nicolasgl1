{
 "cells": [
  {
   "cell_type": "code",
   "execution_count": 2,
   "metadata": {},
   "outputs": [
    {
     "name": "stdout",
     "output_type": "stream",
     "text": [
      "Você pagará uma taxa de: 30.0\n"
     ]
    }
   ],
   "source": [
    "anocarro = int(input(\"Qual o ano do seu carro?\"))\n",
    "preçocarro = float(input(\"Qual o preço do seu carro?\"))\n",
    "if(anocarro < 1990):\n",
    "    print(\"Você pagará uma taxa de :\", preçocarro*0.01)\n",
    "else:\n",
    "    print(\"Você pagará uma taxa de:\", preçocarro*0.015)"
   ]
  },
  {
   "cell_type": "code",
   "execution_count": 7,
   "metadata": {},
   "outputs": [
    {
     "name": "stdout",
     "output_type": "stream",
     "text": [
      "Seu aumento de salário será de 40% e seu novo salário será de:  17237236.8 seu aumento de salario será de:  4924924.8\n"
     ]
    }
   ],
   "source": [
    "#Fazer a separação dos cargos\n",
    "cargo = int(input(\"Digite o codigo do seu cargo: \"))\n",
    "salario = float(input('Digite seu salário: '))\n",
    "#calculo do salario\n",
    "if(cargo == 101):\n",
    "    print('Seu aumento de salário será de 10% e seu novo salário será de: ', salario + (salario * 0.1), 'seu aumento de salario será de: ', (salario * 0.1))\n",
    "elif(cargo == 102):\n",
    "     print('Seu aumento de salário será de 20% e seu novo salário será de: ', salario + (salario * 0.2), 'seu aumento de salario será de: ', (salario * 0.2))\n",
    "elif (cargo == 103):\n",
    "     print('Seu aumento de salário será de 30% e seu novo salário será de: ', salario + (salario * 0.3), 'seu aumento de salario será de: ', (salario * 0.3))\n",
    "else:\n",
    "     print('Seu aumento de salário será de 40% e seu novo salário será de: ', salario + (salario * 0.4), 'seu aumento de salario será de: ', (salario * 0.4))\n",
    "    \n",
    "    \n",
    "    \n",
    "\n"
   ]
  }
 ],
 "metadata": {
  "kernelspec": {
   "display_name": "Python 3",
   "language": "python",
   "name": "python3"
  },
  "language_info": {
   "codemirror_mode": {
    "name": "ipython",
    "version": 3
   },
   "file_extension": ".py",
   "mimetype": "text/x-python",
   "name": "python",
   "nbconvert_exporter": "python",
   "pygments_lexer": "ipython3",
   "version": "3.10.2"
  }
 },
 "nbformat": 4,
 "nbformat_minor": 2
}
