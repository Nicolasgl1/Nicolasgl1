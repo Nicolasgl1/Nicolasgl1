{
 "cells": [
  {
   "cell_type": "code",
   "execution_count": 59,
   "metadata": {},
   "outputs": [],
   "source": [
    "idade1= 17\n",
    "idade2= 26\n",
    "idade1 + idade2\n",
    "somaIdades= idade1 + idade2\n",
    "muIpIdade= idade1*idade2\n",
    "subIdade= idade1-idade2\n",
    "divIdade= idade1/idade2\n",
    "calculo1= 2 *(idade1 + idade2)\n",
    "calculo2= 2 *idade1 + 3 * idade2 / 4\n",
    "calculo3= (2 * idade1 + 3 + idade2) / 4\n",
    "nome= \"Nicolas\"\n",
    "sobrenome= \"Kaiser\""
   ]
  },
  {
   "cell_type": "code",
   "execution_count": 60,
   "metadata": {},
   "outputs": [
    {
     "name": "stdout",
     "output_type": "stream",
     "text": [
      "43 442 -9 0.6538461538461539\n",
      "Nicolas Kaiser\n"
     ]
    }
   ],
   "source": [
    "print (somaIdades,muIpIdade,subIdade,divIdade)\n",
    "print (nome+' '+sobrenome)\n",
    "\n",
    "      "
   ]
  },
  {
   "cell_type": "code",
   "execution_count": 61,
   "metadata": {},
   "outputs": [],
   "source": [
    "#Parêntesis\n",
    "#Expoente\n",
    "#Multiplicação\n",
    "#Divisão\n",
    "#Adição\n",
    "#Subtração"
   ]
  },
  {
   "cell_type": "code",
   "execution_count": 62,
   "metadata": {},
   "outputs": [
    {
     "name": "stdout",
     "output_type": "stream",
     "text": [
      "17\n"
     ]
    }
   ],
   "source": [
    "idade= input(\"Digite sua idade\")\n",
    "print(idade)\n",
    "idade= int(input(\"digite sua idade\"))\n"
   ]
  },
  {
   "cell_type": "code",
   "execution_count": 63,
   "metadata": {},
   "outputs": [
    {
     "name": "stdout",
     "output_type": "stream",
     "text": [
      "32.5\n"
     ]
    }
   ],
   "source": [
    "dia = \"quinta-feira\"\n",
    "dia = 32.5\n",
    "print(dia)\n",
    "dia = 19"
   ]
  },
  {
   "cell_type": "code",
   "execution_count": 64,
   "metadata": {},
   "outputs": [
    {
     "name": "stdout",
     "output_type": "stream",
     "text": [
      "8 768\n"
     ]
    }
   ],
   "source": [
    "x=10-2*5//3+1\n",
    "y= 2**2**3*3\n",
    "print(x,y)"
   ]
  }
 ],
 "metadata": {
  "kernelspec": {
   "display_name": "Python 3",
   "language": "python",
   "name": "python3"
  },
  "language_info": {
   "codemirror_mode": {
    "name": "ipython",
    "version": 3
   },
   "file_extension": ".py",
   "mimetype": "text/x-python",
   "name": "python",
   "nbconvert_exporter": "python",
   "pygments_lexer": "ipython3",
   "version": "3.10.2"
  }
 },
 "nbformat": 4,
 "nbformat_minor": 2
}
