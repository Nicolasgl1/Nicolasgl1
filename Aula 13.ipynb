{
 "cells": [
  {
   "cell_type": "code",
   "execution_count": 2,
   "metadata": {},
   "outputs": [],
   "source": [
    "def funcaoLeitura():\n",
    "    for num in [1,2,3,4,5]:\n",
    "        print(\"Numero \", num)\n",
    "def funcaoLeitura():\n",
    "    for num in range(S):\n",
    "      print(\"Numero \", num)\n",
    "      addNum(2, 3)\n",
    "      addNum(4, 3)\n",
    "\n",
    "\n",
    "      "
   ]
  },
  {
   "cell_type": "code",
   "execution_count": 4,
   "metadata": {},
   "outputs": [],
   "source": [
    "varGlobal = 10\n",
    "def multiplica(num1, num2):\n",
    "    varLocal = (num1 * num2)\n",
    "    print(\"variável da função multiplica:\", varLocal)\n",
    "    multiplicacao (5,4)\n",
    "    print(varLocal)\n",
    "    "
   ]
  },
  {
   "cell_type": "code",
   "execution_count": 6,
   "metadata": {},
   "outputs": [],
   "source": [
    "varGlobal = 10\n",
    "def multiplicação(num1, num2):\n",
    "    varLocal=(num1*num2)\n",
    "    print(\"variavel da função multiplica\", varLocal)\n",
    "    print(varLocal)"
   ]
  },
  {
   "cell_type": "code",
   "execution_count": 16,
   "metadata": {},
   "outputs": [],
   "source": [
    "def variosParametros(*parametros):\n",
    "    for n, item in enumerate(parametros):\n",
    "        print(\"parâmetro\", n, item)\n",
    "    return\n",
    "    "
   ]
  },
  {
   "cell_type": "code",
   "execution_count": 17,
   "metadata": {},
   "outputs": [
    {
     "name": "stdout",
     "output_type": "stream",
     "text": [
      "parâmetro 0 Cibele\n",
      "parâmetro 1 Suely\n",
      "parâmetro 2 Giggio\n",
      "parâmetro 3 Madá\n",
      "parâmetro 4 Luquinhas\n"
     ]
    }
   ],
   "source": [
    "variosParametros('Cibele', 'Suely', 'Giggio', 'Madá', 'Luquinhas')"
   ]
  },
  {
   "cell_type": "code",
   "execution_count": 18,
   "metadata": {},
   "outputs": [
    {
     "name": "stdout",
     "output_type": "stream",
     "text": [
      "parâmetro 0 pitomba\n",
      "parâmetro 1 jambo\n",
      "parâmetro 2 siriguela\n"
     ]
    }
   ],
   "source": [
    "variosParametros(\"pitomba\", \"jambo\", \"siriguela\")"
   ]
  },
  {
   "cell_type": "code",
   "execution_count": 22,
   "metadata": {},
   "outputs": [],
   "source": [
    "def soma(n1, n2):\n",
    "    return n1+n2\n",
    "\n",
    "def subtrai(n1, n2):\n",
    "    return n1-n2\n",
    "\n",
    "def multiplica(n1, n2):\n",
    "    return n1*n2\n",
    "\n",
    "def divide(n1, n2):\n",
    "    return n1/n2"
   ]
  },
  {
   "cell_type": "code",
   "execution_count": null,
   "metadata": {},
   "outputs": [],
   "source": []
  },
  {
   "cell_type": "code",
   "execution_count": 37,
   "metadata": {},
   "outputs": [
    {
     "name": "stdout",
     "output_type": "stream",
     "text": [
      "+================+\n",
      "|MENU DE OPERAÇÕES\n",
      "|  1 - somar      \n",
      "|  2 - subtrair   \n",
      "|  3 - multiplicar\n",
      "|  4 - divir      \n",
      "|  0 - sair       \n",
      "|+===============+\n",
      " O resultado da subtração é: -1\n"
     ]
    }
   ],
   "source": [
    "while True:\n",
    "    print(\"+================+\")\n",
    "    print(\"|MENU DE OPERAÇÕES\")\n",
    "    print(\"|  1 - somar      \")\n",
    "    print(\"|  2 - subtrair   \")\n",
    "    print(\"|  3 - multiplicar\")\n",
    "    print(\"|  4 - divir      \")\n",
    "    print(\"|  0 - sair       \")\n",
    "    print(\"|+===============+\")\n",
    "    \n",
    "    op = int(input())\n",
    "    if op==0:\n",
    "        break\n",
    "    \n",
    "    n1 = int(input(\"primeiro número:\"))\n",
    "    n2 = int(input(\"segundo número:\"))\n",
    "    \n",
    "    if op==1:\n",
    "        print(\"O resultado da soma é:\", soma(n1, n2))\n",
    "    elif op==2:\n",
    "        print(\" O resultado da subtração é:\", subtrai(n1,n2))\n",
    "    elif op==3:\n",
    "        print(\" O resultado da multiplicação é:\", multiplica(n1,n2))\n",
    "    elif op==4:\n",
    "        print(\" O resultado da divisão é:\", divide(n1,n2))\n",
    "    break\n",
    "    "
   ]
  }
 ],
 "metadata": {
  "kernelspec": {
   "display_name": "Python 3",
   "language": "python",
   "name": "python3"
  },
  "language_info": {
   "codemirror_mode": {
    "name": "ipython",
    "version": 3
   },
   "file_extension": ".py",
   "mimetype": "text/x-python",
   "name": "python",
   "nbconvert_exporter": "python",
   "pygments_lexer": "ipython3",
   "version": "3.10.11"
  }
 },
 "nbformat": 4,
 "nbformat_minor": 2
}
