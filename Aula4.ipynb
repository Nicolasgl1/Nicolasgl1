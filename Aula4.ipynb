{
 "cells": [
  {
   "cell_type": "code",
   "execution_count": 6,
   "metadata": {},
   "outputs": [
    {
     "name": "stdout",
     "output_type": "stream",
     "text": [
      "O valor digitado foi: 17\n"
     ]
    }
   ],
   "source": [
    "valor1 = input('digite um número inteiro')\n",
    "print(\"O valor digitado foi:\", valor1)"
   ]
  },
  {
   "cell_type": "code",
   "execution_count": 24,
   "metadata": {},
   "outputs": [
    {
     "name": "stdout",
     "output_type": "stream",
     "text": [
      "A soma dos valores é: 37\n"
     ]
    }
   ],
   "source": [
    "valor1 = int (input(\"Digite um número\"))\n",
    "valor2 = int (input(\"Digite outro número \"))\n",
    "resultado = valor1 + valor2\n",
    "print (\"A soma dos valores é:\", resultado)"
   ]
  },
  {
   "cell_type": "code",
   "execution_count": 21,
   "metadata": {},
   "outputs": [
    {
     "name": "stdout",
     "output_type": "stream",
     "text": [
      "A média das Notas é: 12.0\n"
     ]
    }
   ],
   "source": [
    "Nota1= int(input(\"Digite um número \"))\n",
    "Nota2= int(input(\"Digite um número \"))\n",
    "Nota3= int(input(\"Digite um número \"))\n",
    "média= (Nota1+Nota2+Nota3)/3\n",
    "print(\"A média das Notas é:\", média)\n"
   ]
  },
  {
   "cell_type": "code",
   "execution_count": 23,
   "metadata": {},
   "outputs": [
    {
     "name": "stdout",
     "output_type": "stream",
     "text": [
      "você ganha: R$ 60.0 por hora\n"
     ]
    }
   ],
   "source": [
    "Valorhora1= float(input('Valor por hora'))\n",
    "Valorhora2= float(input('Valor hora'))\n",
    "multiplicação= (Valorhora1*Valorhora2)\n",
    "print(\"você ganha: R$$\" , multiplicação , \"por hora\")"
   ]
  },
  {
   "cell_type": "code",
   "execution_count": 5,
   "metadata": {},
   "outputs": [
    {
     "name": "stdout",
     "output_type": "stream",
     "text": [
      "Você não pagará multa.\n"
     ]
    }
   ],
   "source": [
    "pesopeixe = float(input(\"quantos quilos de peixe você pescou?:\"));\n",
    "valormulta= 4\n",
    "if pesopeixe > 50:print (\"Você pagará uma multa de:\"), (valormulta * (pesopeixe -50))             \n",
    "else:print(\"Você não pagará multa.\");"
   ]
  },
  {
   "cell_type": "code",
   "execution_count": null,
   "metadata": {},
   "outputs": [],
   "source": []
  }
 ],
 "metadata": {
  "kernelspec": {
   "display_name": "venv",
   "language": "python",
   "name": "python3"
  },
  "language_info": {
   "codemirror_mode": {
    "name": "ipython",
    "version": 3
   },
   "file_extension": ".py",
   "mimetype": "text/x-python",
   "name": "python",
   "nbconvert_exporter": "python",
   "pygments_lexer": "ipython3",
   "version": "3.10.8"
  }
 },
 "nbformat": 4,
 "nbformat_minor": 2
}
